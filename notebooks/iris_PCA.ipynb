# 3D 시각화를 위한 matplotlib 설정
import matplotlib.pyplot as plt
from mpl_toolkits.mplot3d import Axes3D  # noqa: F401

# PCA를 위한 라이브러리
from sklearn.decomposition import PCA
from sklearn import datasets

# Iris 데이터 불러오기
iris = datasets.load_iris()

# PCA 3차원으로 축소
X_reduced = PCA(n_components=3).fit_transform(iris.data)

# 3D 시각화
fig = plt.figure(figsize=(8, 6))
ax = fig.add_subplot(111, projection='3d', elev=150, azim=110)

sc = ax.scatter(
    X_reduced[:, 0], X_reduced[:, 1], X_reduced[:, 2],
    c=iris.target, edgecolor='k', s=50
)

ax.set_title("First three PCA dimensions")
ax.set_xlabel("1st Eigenvector")
ax.set_ylabel("2nd Eigenvector")
ax.set_zlabel("3rd Eigenvector")
ax.xaxis.set_ticklabels([])
ax.yaxis.set_ticklabels([])
ax.zaxis.set_ticklabels([])

plt.show()
